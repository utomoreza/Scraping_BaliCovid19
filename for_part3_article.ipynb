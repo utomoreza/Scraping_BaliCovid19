{
 "cells": [
  {
   "cell_type": "markdown",
   "metadata": {},
   "source": [
    "# Scrape data Jembrana regency website using Pandas `read_html`"
   ]
  },
  {
   "cell_type": "code",
   "execution_count": 4,
   "metadata": {},
   "outputs": [],
   "source": [
    "import requests\n",
    "import pandas as pd\n",
    "import html5lib\n",
    "from bs4 import BeautifulSoup as bs"
   ]
  },
  {
   "cell_type": "code",
   "execution_count": 15,
   "metadata": {},
   "outputs": [],
   "source": [
    "url = 'https://covid19.jembranakab.go.id'\n",
    "url_data = 'https://covid19.jembranakab.go.id/data'"
   ]
  },
  {
   "cell_type": "code",
   "execution_count": 3,
   "metadata": {},
   "outputs": [],
   "source": [
    "req = requests.get(url_data)\n",
    "soupJembrana = bs(req.content, 'html5lib')"
   ]
  },
  {
   "cell_type": "code",
   "execution_count": 16,
   "metadata": {},
   "outputs": [],
   "source": [
    "ext_links = []\n",
    "for i in soupJembrana.findAll('a', string='Detail'):\n",
    "    ext_links.append(url + i.get('href'))"
   ]
  },
  {
   "cell_type": "code",
   "execution_count": 25,
   "metadata": {},
   "outputs": [],
   "source": [
    "list_df = []\n",
    "for link in ext_links:\n",
    "    list_df.append(pd.read_html(link)[0])"
   ]
  },
  {
   "cell_type": "code",
   "execution_count": 30,
   "metadata": {},
   "outputs": [
    {
     "data": {
      "text/html": [
       "<div>\n",
       "<style scoped>\n",
       "    .dataframe tbody tr th:only-of-type {\n",
       "        vertical-align: middle;\n",
       "    }\n",
       "\n",
       "    .dataframe tbody tr th {\n",
       "        vertical-align: top;\n",
       "    }\n",
       "\n",
       "    .dataframe thead tr th {\n",
       "        text-align: left;\n",
       "    }\n",
       "</style>\n",
       "<table border=\"1\" class=\"dataframe\">\n",
       "  <thead>\n",
       "    <tr>\n",
       "      <th></th>\n",
       "      <th>Desa</th>\n",
       "      <th colspan=\"3\" halign=\"left\">KONTAK ERAT (Orang Dalam Pemantauan)</th>\n",
       "      <th colspan=\"3\" halign=\"left\">SUSPEK (Pasien Dalam Pengawasan)</th>\n",
       "      <th>Positif COVID-19</th>\n",
       "      <th>Sembuh</th>\n",
       "      <th>Meninggal</th>\n",
       "    </tr>\n",
       "    <tr>\n",
       "      <th></th>\n",
       "      <th>Desa</th>\n",
       "      <th>Proses Pemantauan</th>\n",
       "      <th>Selesai Pemantauan</th>\n",
       "      <th>Total</th>\n",
       "      <th>Proses Perawatan</th>\n",
       "      <th>Selesai Perawatan</th>\n",
       "      <th>Total</th>\n",
       "      <th>Positif COVID-19</th>\n",
       "      <th>Sembuh</th>\n",
       "      <th>Meninggal</th>\n",
       "    </tr>\n",
       "  </thead>\n",
       "  <tbody>\n",
       "    <tr>\n",
       "      <th>0</th>\n",
       "      <td>ASAHDUREN</td>\n",
       "      <td>0</td>\n",
       "      <td>8</td>\n",
       "      <td>8</td>\n",
       "      <td>0</td>\n",
       "      <td>2</td>\n",
       "      <td>2</td>\n",
       "      <td>5</td>\n",
       "      <td>4</td>\n",
       "      <td>0</td>\n",
       "    </tr>\n",
       "    <tr>\n",
       "      <th>1</th>\n",
       "      <td>GUMBRIH</td>\n",
       "      <td>0</td>\n",
       "      <td>2</td>\n",
       "      <td>2</td>\n",
       "      <td>0</td>\n",
       "      <td>2</td>\n",
       "      <td>2</td>\n",
       "      <td>2</td>\n",
       "      <td>2</td>\n",
       "      <td>0</td>\n",
       "    </tr>\n",
       "    <tr>\n",
       "      <th>2</th>\n",
       "      <td>MEDEWI</td>\n",
       "      <td>0</td>\n",
       "      <td>8</td>\n",
       "      <td>8</td>\n",
       "      <td>0</td>\n",
       "      <td>1</td>\n",
       "      <td>1</td>\n",
       "      <td>9</td>\n",
       "      <td>9</td>\n",
       "      <td>0</td>\n",
       "    </tr>\n",
       "    <tr>\n",
       "      <th>3</th>\n",
       "      <td>PENGERAGOAN</td>\n",
       "      <td>4</td>\n",
       "      <td>11</td>\n",
       "      <td>15</td>\n",
       "      <td>0</td>\n",
       "      <td>1</td>\n",
       "      <td>1</td>\n",
       "      <td>10</td>\n",
       "      <td>10</td>\n",
       "      <td>0</td>\n",
       "    </tr>\n",
       "    <tr>\n",
       "      <th>4</th>\n",
       "      <td>PULUKAN</td>\n",
       "      <td>3</td>\n",
       "      <td>13</td>\n",
       "      <td>16</td>\n",
       "      <td>0</td>\n",
       "      <td>1</td>\n",
       "      <td>1</td>\n",
       "      <td>6</td>\n",
       "      <td>6</td>\n",
       "      <td>0</td>\n",
       "    </tr>\n",
       "    <tr>\n",
       "      <th>5</th>\n",
       "      <td>PEKUTATAN</td>\n",
       "      <td>4</td>\n",
       "      <td>15</td>\n",
       "      <td>19</td>\n",
       "      <td>0</td>\n",
       "      <td>3</td>\n",
       "      <td>3</td>\n",
       "      <td>19</td>\n",
       "      <td>16</td>\n",
       "      <td>0</td>\n",
       "    </tr>\n",
       "    <tr>\n",
       "      <th>6</th>\n",
       "      <td>PANGYANGAN</td>\n",
       "      <td>0</td>\n",
       "      <td>2</td>\n",
       "      <td>2</td>\n",
       "      <td>0</td>\n",
       "      <td>1</td>\n",
       "      <td>1</td>\n",
       "      <td>6</td>\n",
       "      <td>6</td>\n",
       "      <td>0</td>\n",
       "    </tr>\n",
       "    <tr>\n",
       "      <th>7</th>\n",
       "      <td>MANGGISSARI</td>\n",
       "      <td>0</td>\n",
       "      <td>15</td>\n",
       "      <td>15</td>\n",
       "      <td>0</td>\n",
       "      <td>1</td>\n",
       "      <td>1</td>\n",
       "      <td>6</td>\n",
       "      <td>6</td>\n",
       "      <td>0</td>\n",
       "    </tr>\n",
       "  </tbody>\n",
       "</table>\n",
       "</div>"
      ],
      "text/plain": [
       "          Desa KONTAK ERAT (Orang Dalam Pemantauan)                           \\\n",
       "          Desa                    Proses Pemantauan Selesai Pemantauan Total   \n",
       "0    ASAHDUREN                                    0                  8     8   \n",
       "1      GUMBRIH                                    0                  2     2   \n",
       "2       MEDEWI                                    0                  8     8   \n",
       "3  PENGERAGOAN                                    4                 11    15   \n",
       "4      PULUKAN                                    3                 13    16   \n",
       "5    PEKUTATAN                                    4                 15    19   \n",
       "6   PANGYANGAN                                    0                  2     2   \n",
       "7  MANGGISSARI                                    0                 15    15   \n",
       "\n",
       "  SUSPEK (Pasien Dalam Pengawasan)                         Positif COVID-19  \\\n",
       "                  Proses Perawatan Selesai Perawatan Total Positif COVID-19   \n",
       "0                                0                 2     2                5   \n",
       "1                                0                 2     2                2   \n",
       "2                                0                 1     1                9   \n",
       "3                                0                 1     1               10   \n",
       "4                                0                 1     1                6   \n",
       "5                                0                 3     3               19   \n",
       "6                                0                 1     1                6   \n",
       "7                                0                 1     1                6   \n",
       "\n",
       "  Sembuh Meninggal  \n",
       "  Sembuh Meninggal  \n",
       "0      4         0  \n",
       "1      2         0  \n",
       "2      9         0  \n",
       "3     10         0  \n",
       "4      6         0  \n",
       "5     16         0  \n",
       "6      6         0  \n",
       "7      6         0  "
      ]
     },
     "execution_count": 30,
     "metadata": {},
     "output_type": "execute_result"
    }
   ],
   "source": [
    "list_df[4]"
   ]
  },
  {
   "cell_type": "markdown",
   "metadata": {},
   "source": [
    "# Scrape maps on Buleleng regency website using polygon"
   ]
  },
  {
   "cell_type": "code",
   "execution_count": 1,
   "metadata": {},
   "outputs": [],
   "source": [
    "import numpy as np\n",
    "import re\n",
    "import time\n",
    "\n",
    "from selenium import webdriver\n",
    "from selenium.webdriver.support.ui import WebDriverWait\n",
    "from selenium.webdriver.common.by import By\n",
    "from selenium.webdriver.support import expected_conditions as EC\n",
    "from selenium.common.exceptions import ElementClickInterceptedException\n",
    "from selenium.common.exceptions import ElementNotInteractableException\n",
    "\n",
    "import matplotlib.pyplot as plt\n",
    "import matplotlib.path as mplPath"
   ]
  },
  {
   "cell_type": "code",
   "execution_count": 2,
   "metadata": {},
   "outputs": [],
   "source": [
    "url = 'http://infocovid19.bulelengkab.go.id/'"
   ]
  },
  {
   "cell_type": "code",
   "execution_count": 26,
   "metadata": {},
   "outputs": [],
   "source": [
    "# instantiate the webdriver\n",
    "driver = webdriver.Chrome()\n",
    "driver.get(url)\n",
    "\n",
    "# wait until the map appeared\n",
    "wait = WebDriverWait(driver, 10)\n",
    "wait.until(EC.visibility_of_all_elements_located((By.ID, \"mapid\")))\n",
    "\n",
    "# maximize window\n",
    "driver.maximize_window()\n",
    "time.sleep(1)\n",
    "\n",
    "# scroll down 1500 pixel.\n",
    "driver.execute_script(\"window.scrollTo(0, 1500)\")\n",
    "time.sleep(1)\n",
    "\n",
    "# scrape the webpage using beautifulsoup\n",
    "soupBuleleng = bs(driver.page_source, 'html5lib')"
   ]
  },
  {
   "cell_type": "code",
   "execution_count": 7,
   "metadata": {},
   "outputs": [],
   "source": [
    "# get 'path' tags with class attribute 'leaflet-interactive',\n",
    "allkec_paths = soupBuleleng.findAll('path', class_='leaflet-interactive')\n",
    "\n",
    "# then get the 'd' attribute\n",
    "dList = []\n",
    "for i in allkec_paths:\n",
    "    dList.append(i.get('d'))"
   ]
  },
  {
   "cell_type": "code",
   "execution_count": 8,
   "metadata": {},
   "outputs": [],
   "source": [
    "# 'd' attribute consists of x and y coordinates\n",
    "# the x coordinates located after an 'M' or 'L' letter\n",
    "# the y coordinates located before a whitespace or after an 'L' or 'z' letter\n",
    "\n",
    "# set empty lists to store the coordinates for all kecamatan\n",
    "X = []\n",
    "Y = []\n",
    "\n",
    "# for-looping through dList to get the x and y coordinates for each kecamatan\n",
    "# use regex here\n",
    "for j, j_fill in enumerate(dList):\n",
    "    # set empty lists to store the coordinates for a kecamatan\n",
    "    x = []\n",
    "    y = []\n",
    "    \n",
    "    for i in re.findall('M{1}\\d+|L{1}\\d+', j_fill):\n",
    "        x.append(int(i[1:]))\n",
    "    x.append(x[0])\n",
    "    \n",
    "    for i in re.findall('-*\\d+(?:L|z)', j_fill):\n",
    "        y.append(int(i[:-1]))\n",
    "    y.append(y[0])\n",
    "    \n",
    "    X.append(x)\n",
    "    Y.append(y)"
   ]
  },
  {
   "cell_type": "code",
   "execution_count": 10,
   "metadata": {},
   "outputs": [],
   "source": [
    "# scrape data of the pins which annotating the number OTG, ODP, PDP, Positif of each kecamatan\n",
    "# the element located in 'div' tag with 'leaflet-marker-icon' class attribute\n",
    "pin_elements = soupBuleleng.findAll('div', class_='leaflet-marker-icon')\n",
    "\n",
    "# there are 3 data to collect: \n",
    "# 1. the 'style' attribute containing 'translate3d' func\n",
    "# 2. the number shown in each pin\n",
    "# 3. the colour type of each pin\n",
    "styleList = []\n",
    "numList = []\n",
    "tipeList = []\n",
    "\n",
    "for i in pin_elements:\n",
    "    styleList.append(i.get('style')) \n",
    "    \n",
    "    # the number shown in each pin located in the 'div' tag with 'number' class attribute\n",
    "    numList.append(int(i.find('div', class_='number').text))\n",
    "    \n",
    "    # create temporary variable to store the 'src' attr from the 'img' tag\n",
    "    tipe = i.find('img').get('src')\n",
    "    \n",
    "    # as the content of 'src' attr is a png link, we need to clean the link to get the colour name of each pin\n",
    "    # we use regex here\n",
    "    tipe = re.findall('\\w+\\.p', tipe)[0][:-2]\n",
    "    tipeList.append(tipe)"
   ]
  },
  {
   "cell_type": "code",
   "execution_count": 11,
   "metadata": {},
   "outputs": [],
   "source": [
    "# get the coordinates of each pin from 'style' attribute\n",
    "\n",
    "# empty lists for storing the coordinates\n",
    "x_coor = []\n",
    "y_coor = []\n",
    "\n",
    "# for-looping through all 'style' attributes\n",
    "for i in styleList:\n",
    "    # the x and y coordinates inside the 'translate3d()' func\n",
    "    xy = re.findall('\\(\\d+px,\\s\\d+px', i)[0][1:]\n",
    "    \n",
    "    # so that they need to split\n",
    "    x_coor.append(int(xy[:(xy.find('px,'))]))\n",
    "    y_coor.append(int(xy[(xy.find(',')+2):-2]))"
   ]
  },
  {
   "cell_type": "code",
   "execution_count": 12,
   "metadata": {},
   "outputs": [
    {
     "data": {
      "image/png": "[encoded data removed]",
      "text/plain": [
       "<Figure size 1080x432 with 1 Axes>"
      ]
     },
     "metadata": {
      "needs_background": "light"
     },
     "output_type": "display_data"
    }
   ],
   "source": [
    "# buat plotting dari koordinat kecamatan dan koordinat pin marker yang telah didapatkan\n",
    "# hal ini semata-mata hanya untuk melihat hasil extract data\n",
    "plt.figure(figsize=(15,6))\n",
    "for i in range(len(x_coor)):\n",
    "    if i <= 8:\n",
    "        plt.plot(X[i], Y[i], 'go--', linewidth=1, markersize=1)\n",
    "        \n",
    "    \n",
    "    plt.plot(x_coor[i], y_coor[i], 'bo--', linewidth=1, markersize=5)\n",
    "\n",
    "plt.grid(True)"
   ]
  },
  {
   "cell_type": "code",
   "execution_count": 13,
   "metadata": {},
   "outputs": [],
   "source": [
    "# examine whether a pin's location is inside a given kecamatan area\n",
    "# if TRUE, then all attributes regarding such a pin belongs to the given kecamatan\n",
    "# if FALSE, then the given kecamatan doesn't own the pin\n",
    "\n",
    "# empty lists to store the actual number and type of all kecamatan, respectively\n",
    "# these lists below will be lists of lists\n",
    "jumlahPerKec = []\n",
    "tipePerKec = []\n",
    "\n",
    "# for-looping through all kecamatan - X list contains a list of coordinates of each kecamatan\n",
    "for i in range(len(X)):\n",
    "    # change the x and y coordinates of given kecamatan into an array\n",
    "    # it's needed as the matplotlib.Path func only receive arrays\n",
    "    KecArray = np.array([[X[i][j],Y[i][j]] for j in range(len(X[i]))])\n",
    "    \n",
    "    # empty lists to store temporary number and type for each kecamatan\n",
    "    jumlah = []\n",
    "    tipe = []\n",
    "    \n",
    "    # create a polygon of given kecamatan\n",
    "    mapPath = mplPath.Path(KecArray)\n",
    "    \n",
    "    # then for given kecamatan, loop through all pins\n",
    "    for k in range(len(x_coor)):\n",
    "        # set the coordinate of given pin\n",
    "        pin = (x_coor[k], y_coor[k])\n",
    "        \n",
    "        # examine whether given pin is inside given kecamatan's polygon\n",
    "        isInside = mapPath.contains_point(pin)\n",
    "        # if TRUE, store all given pin's attrs\n",
    "        if isInside:\n",
    "            jumlah.append(numList[k])\n",
    "            tipe.append(tipeList[k])\n",
    "            \n",
    "    # append the temporary lists to create lists of lists\n",
    "    jumlahPerKec.append(jumlah)\n",
    "    tipePerKec.append(tipe)"
   ]
  },
  {
   "cell_type": "code",
   "execution_count": 14,
   "metadata": {},
   "outputs": [],
   "source": [
    "# ambil data mengenai warna tiap peta kecamatan\n",
    "# warna tsb mengindikasi zona tiap kecamatan\n",
    "# data warna tsb berada di tag 'path' dengan atribut class 'leaflet-interactive',\n",
    "# lalu di dalam atribut 'fill'\n",
    "fillList = [] # buat list kosong yang akan menyimpan data atribut 'fill'\n",
    "for i in soupBuleleng.findAll('path', class_='leaflet-interactive'):\n",
    "    fillList.append(i.get('fill'))"
   ]
  },
  {
   "cell_type": "code",
   "execution_count": 15,
   "metadata": {},
   "outputs": [],
   "source": [
    "# define necessary variables\n",
    "allkec_paths = soupBuleleng.findAll('path', class_='leaflet-interactive')\n",
    "xpath_popup = '//*[@id=\"mapid\"]/div[1]/div[6]/div/div[1]/div/b'\n",
    "xpath_close_popup = '//*[@id=\"mapid\"]/div[1]/div[6]/div/a'\n",
    "xpath_zoomout = '//*[@id=\"mapid\"]/div[2]/div[1]/div/a[2]'\n",
    "kec = []"
   ]
  },
  {
   "cell_type": "code",
   "execution_count": 28,
   "metadata": {},
   "outputs": [],
   "source": [
    "# instantiate the webdriver\n",
    "driver = webdriver.Chrome()\n",
    "driver.get(url)\n",
    "\n",
    "# wait until the map appeared\n",
    "wait = WebDriverWait(driver, 10)\n",
    "wait.until(EC.visibility_of_all_elements_located((By.ID, \"mapid\")))\n",
    "\n",
    "# maximize window\n",
    "driver.maximize_window()\n",
    "time.sleep(1)\n",
    "\n",
    "# scroll down 1500 pixel.\n",
    "driver.execute_script(\"window.scrollTo(0, 1500)\")\n",
    "time.sleep(1)\n",
    "\n",
    "# scrape the webpage using beautifulsoup\n",
    "soupBuleleng = bs(driver.page_source, 'html5lib')\n",
    "\n",
    "# for-looping through all kecamatan to click each to get its name\n",
    "for i in range(len(allkec_paths)):\n",
    "    flag_doubleclick = 0 # set a flag to store how many times double-click executed in each kecamatan\n",
    "    \n",
    "    # define CSS_selector and the element for each kecamatan area\n",
    "    cssSelector_kec = f'#mapid > div.leaflet-pane.leaflet-map-pane > div.leaflet-pane.leaflet-overlay-pane > svg > g > path:nth-child({i+1})'\n",
    "    element = driver.find_element_by_css_selector(cssSelector_kec)\n",
    "    \n",
    "    # while-looping trying to click a kecamatan element until no error found\n",
    "    while True:\n",
    "        # try clicking each kecamatan area\n",
    "        try:\n",
    "            element.click()\n",
    "            time.sleep(0.5) # wait until the popup shows up\n",
    "            kec.append(driver.find_element_by_xpath(xpath_popup).text) # get the kecamatan name\n",
    "            driver.find_element_by_xpath(xpath_close_popup).click() # close pop-up\n",
    "            time.sleep(0.5) # wait until the popup closed properly\n",
    "            \n",
    "            # zoom-out as many as times double clicks performs\n",
    "            for z in range(flag_doubleclick):\n",
    "                driver.find_element_by_xpath(xpath_zoomout).click()\n",
    "                time.sleep(0.5)  # wait until zoom-out responding\n",
    "            break # finished with given kecamatan, then break the while loop\n",
    "            \n",
    "        # if can't be clicked due to overlapping, double click the element to make it zoomed in\n",
    "        # it is expected that while zooming-in, the element can be clickable\n",
    "        except:\n",
    "            flag_doubleclick += 1 # store the flag\n",
    "            webdriver.ActionChains(driver).double_click(element).perform()    "
   ]
  },
  {
   "cell_type": "code",
   "execution_count": 29,
   "metadata": {},
   "outputs": [],
   "source": [
    "driver.quit()"
   ]
  },
  {
   "cell_type": "code",
   "execution_count": 20,
   "metadata": {},
   "outputs": [
    {
     "data": {
      "text/plain": [
       "[['positif', 'pdp', 'otg'],\n",
       " ['positif', 'pdp', 'otg'],\n",
       " ['pdp', 'otg'],\n",
       " ['positif', 'pdp', 'otg'],\n",
       " ['positif', 'pdp', 'otg'],\n",
       " ['pdp', 'otg'],\n",
       " ['positif', 'pdp', 'otg'],\n",
       " ['positif', 'pdp', 'otg'],\n",
       " ['positif', 'pdp', 'otg']]"
      ]
     },
     "execution_count": 20,
     "metadata": {},
     "output_type": "execute_result"
    }
   ],
   "source": [
    "tipePerKec"
   ]
  },
  {
   "cell_type": "code",
   "execution_count": 21,
   "metadata": {},
   "outputs": [
    {
     "data": {
      "text/plain": [
       "[[4, 2, 5],\n",
       " [29, 11, 110],\n",
       " [1, 9],\n",
       " [3, 2, 28],\n",
       " [8, 3, 13],\n",
       " [1, 4],\n",
       " [9, 6, 5],\n",
       " [3, 1, 26],\n",
       " [3, 2, 17]]"
      ]
     },
     "execution_count": 21,
     "metadata": {},
     "output_type": "execute_result"
    }
   ],
   "source": [
    "jumlahPerKec"
   ]
  },
  {
   "cell_type": "code",
   "execution_count": 22,
   "metadata": {},
   "outputs": [
    {
     "data": {
      "text/plain": [
       "['Banjar',\n",
       " 'Buleleng',\n",
       " 'Busungbiu',\n",
       " 'Sawan',\n",
       " 'Seririt',\n",
       " 'Kubutambahan',\n",
       " 'Sukasada',\n",
       " 'Tejakula',\n",
       " 'Gerokgak']"
      ]
     },
     "execution_count": 22,
     "metadata": {},
     "output_type": "execute_result"
    }
   ],
   "source": [
    "kec"
   ]
  },
  {
   "cell_type": "code",
   "execution_count": 25,
   "metadata": {},
   "outputs": [
    {
     "data": {
      "text/plain": [
       "{'Banjar': (['positif', 'pdp', 'otg'], [4, 2, 5]),\n",
       " 'Buleleng': (['positif', 'pdp', 'otg'], [29, 11, 110]),\n",
       " 'Busungbiu': (['pdp', 'otg'], [1, 9]),\n",
       " 'Sawan': (['positif', 'pdp', 'otg'], [3, 2, 28]),\n",
       " 'Seririt': (['positif', 'pdp', 'otg'], [8, 3, 13]),\n",
       " 'Kubutambahan': (['pdp', 'otg'], [1, 4]),\n",
       " 'Sukasada': (['positif', 'pdp', 'otg'], [9, 6, 5]),\n",
       " 'Tejakula': (['positif', 'pdp', 'otg'], [3, 1, 26]),\n",
       " 'Gerokgak': (['positif', 'pdp', 'otg'], [3, 2, 17])}"
      ]
     },
     "execution_count": 25,
     "metadata": {},
     "output_type": "execute_result"
    }
   ],
   "source": [
    "# data = \n",
    "{k:(tipe, num) for k, tipe, num in zip(kec, tipePerKec, jumlahPerKec)}"
   ]
  },
  {
   "cell_type": "markdown",
   "metadata": {},
   "source": [
    "# Scrolling page in a webpage with multiple scrollbars"
   ]
  },
  {
   "cell_type": "code",
   "execution_count": 47,
   "metadata": {},
   "outputs": [],
   "source": [
    "import math\n",
    "\n",
    "url = 'https://covid19.who.int/table' # get url\n",
    "# start selenium\n",
    "driver = webdriver.Chrome()\n",
    "# driver = webdriver.Chrome(options = option)\n",
    "driver.get(url)\n",
    "driver.maximize_window()\n",
    "\n",
    "# must point to the element with the scroll bar (not the element alone)\n",
    "# Note: querySelector uses CSS selector\n",
    "css_selector = \"#gatsby-focus-wrapper > div > div.sc-AxjAm.sc-AxhCb.dINWAn > div > div.sc-AxjAm.sc-pczax.djQmRP > div > div > div.tbody > div\"\n",
    "               \n",
    "scrolling_step = 100  # In pixels\n",
    "height = driver.execute_script(\"return document.querySelector('\" + css_selector + \"').scrollHeight\")  # height (in pixels) for scrolling\n",
    "times = math.ceil(height / scrolling_step)\n",
    "\n",
    "# scrolling\n",
    "for i in range(times):\n",
    "    driver.execute_script(\"document.querySelector('\" + css_selector + \"').scrollTop = \" + str(scrolling_step * (i + 1)))"
   ]
  },
  {
   "cell_type": "code",
   "execution_count": 48,
   "metadata": {},
   "outputs": [],
   "source": [
    "driver.quit()"
   ]
  }
 ],
 "metadata": {
  "kernelspec": {
   "display_name": "Python 3",
   "language": "python",
   "name": "python3"
  },
  "language_info": {
   "codemirror_mode": {
    "name": "ipython",
    "version": 3
   },
   "file_extension": ".py",
   "mimetype": "text/x-python",
   "name": "python",
   "nbconvert_exporter": "python",
   "pygments_lexer": "ipython3",
   "version": "3.8.3"
  }
 },
 "nbformat": 4,
 "nbformat_minor": 4
}
