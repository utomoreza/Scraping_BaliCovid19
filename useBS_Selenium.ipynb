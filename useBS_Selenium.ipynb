{
 "metadata": {
  "language_info": {
   "codemirror_mode": {
    "name": "ipython",
    "version": 3
   },
   "file_extension": ".py",
   "mimetype": "text/x-python",
   "name": "python",
   "nbconvert_exporter": "python",
   "pygments_lexer": "ipython3",
   "version": "3.8.3-final"
  },
  "orig_nbformat": 2,
  "kernelspec": {
   "name": "python3",
   "display_name": "Python 3"
  }
 },
 "nbformat": 4,
 "nbformat_minor": 2,
 "cells": [
  {
   "source": [
    "# Scrape using BeautifulSoup and Selenium"
   ],
   "cell_type": "markdown",
   "metadata": {}
  },
  {
   "source": [
    "# import necessary libraries\n",
    "import requests\n",
    "import html5lib\n",
    "import time\n",
    "import pandas as pd\n",
    "import datetime\n",
    "import re\n",
    "from tqdm import tqdm\n",
    "from bs4 import BeautifulSoup as bs\n",
    "from selenium import webdriver\n",
    "from selenium.webdriver.support.ui import WebDriverWait\n",
    "from selenium.webdriver.common.by import By\n",
    "from selenium.webdriver.support import expected_conditions as EC\n",
    "from selenium.webdriver.common.action_chains import ActionChains\n",
    "from selenium.common.exceptions import ElementClickInterceptedException\n",
    "from selenium.common.exceptions import ElementNotInteractableException"
   ],
   "cell_type": "code",
   "metadata": {},
   "execution_count": 1,
   "outputs": []
  },
  {
   "source": [
    "# enter URL address\n",
    "url = 'https://covid19.jembranakab.go.id/data'"
   ],
   "cell_type": "code",
   "metadata": {},
   "execution_count": 2,
   "outputs": []
  },
  {
   "cell_type": "code",
   "execution_count": 3,
   "metadata": {},
   "outputs": [],
   "source": [
    "# scraping using BeautifulSoup to get the number of all buttons for kecamatan\n",
    "req = requests.get(url, verify=False)\n",
    "soup = bs(req.content, 'html5lib')\n",
    "allButtons = len(soup.findAll('a', text='Detail'))"
   ]
  },
  {
   "cell_type": "code",
   "execution_count": 4,
   "metadata": {},
   "outputs": [
    {
     "output_type": "stream",
     "name": "stdout",
     "text": [
      "Opening webpage.\n",
      "  0%|          | 0/5 [00:00<?, ?it/s]Starting scraping COVID-19 values.\n",
      "100%|██████████| 5/5 [00:10<00:00,  2.11s/it]\n",
      "COVID-19 values scraped successfully.\n",
      "0it [00:00, ?it/s]Starting scraping zone color data in the map.\n",
      "48it [01:54,  2.39s/it]\n",
      "Zone colors data scraped successfully.\n",
      "Browser closed.\n"
     ]
    }
   ],
   "source": [
    "# automate browser using selenium. we use 'with' to ease ourself that we don't need to close the driver after use\n",
    "with webdriver.Chrome() as driver:\n",
    "# driver = webdriver.Chrome()\n",
    "    print('Opening webpage.')\n",
    "    driver.get(url) # open url\n",
    "    driver.maximize_window() # maximize window of browser\n",
    "\n",
    "    # wait for 2 seconds than scroll down\n",
    "    time.sleep(2)\n",
    "    driver.execute_script(\"window.scrollTo(0, 1080)\")\n",
    "\n",
    "    # wait until the button interactable\n",
    "    wait = WebDriverWait(driver, 20)\n",
    "    wait.until(EC.visibility_of_all_elements_located((By.XPATH, '//*[@id=\"contact\"]/div/div[2]/div[1]/div/div[2]/a')))\n",
    "\n",
    "    # define empty lists for storing values\n",
    "    KecamatanList = []\n",
    "    DesaList = []\n",
    "    ProsesPantauList = []\n",
    "    SelesaiPantauList = []\n",
    "    ProsesRawatList = []\n",
    "    SelesaiRawatList = []\n",
    "    PositifList = []\n",
    "    SembuhList = []\n",
    "    MeninggalList = []\n",
    "    TotalPantauList = []\n",
    "    TotalRawatList = []\n",
    "\n",
    "    print('Starting scraping COVID-19 values.')\n",
    "    # for-loop through each button of kecamatan\n",
    "    for order in tqdm(range(allButtons)):\n",
    "        # define xpath for each button kecamatan\n",
    "        xpath_button = '//*[@id=\"contact\"]/div/div[2]/div[{}]/div/div[2]/a'.format(str(order+1))\n",
    "\n",
    "        # click the button\n",
    "        driver.find_element_by_xpath(xpath_button).click()\n",
    "\n",
    "        # wait until the pop-up windows visible\n",
    "        wait = WebDriverWait(driver, 20)\n",
    "        wait.until(EC.visibility_of_all_elements_located((By.CLASS_NAME, 'card-body')))\n",
    "        soupButton = bs(driver.page_source, 'html5lib') # then throw the page to BeautifulSoup to scrape\n",
    "\n",
    "        # get kecamatan name shown in the pop-up\n",
    "        teks_kec = soupButton.find('h2', attrs={'class':'ser-title'}).text\n",
    "\n",
    "        # find values for each column\n",
    "        DesaRaw = soupButton.findAll('td', attrs={'data-label':'Desa'})\n",
    "        ProsesPantauRaw = soupButton.findAll('td', attrs={'data-label':'Proses Pemantauan'})\n",
    "        SelesaiPantauRaw = soupButton.findAll('td', attrs={'data-label':'Selesai Pemantauan'})\n",
    "        ProsesRawatRaw = soupButton.findAll('td', attrs={'data-label':'Proses Perawatan'})\n",
    "        SelesaiRawatRaw = soupButton.findAll('td', attrs={'data-label':'Selesai Perawatan'})\n",
    "        PositifRaw = soupButton.findAll('td', attrs={'data-label':'Positif COVID-19'})\n",
    "        SembuhRaw = soupButton.findAll('td', attrs={'data-label':'Sembuh'})\n",
    "        MeninggalRaw = soupButton.findAll('td', attrs={'data-label':'Meninggal'})\n",
    "\n",
    "        # for-loop through each row in the columns defined above\n",
    "        for desa, prosespantau, selesaipantau, prosesrawat, selesairawat, positif, sembuh, meninggal in zip(DesaRaw, ProsesPantauRaw, SelesaiPantauRaw, ProsesRawatRaw, SelesaiRawatRaw, PositifRaw, SembuhRaw, MeninggalRaw):\n",
    "            DesaList.append(desa.text.title())\n",
    "            ProsesPantauList.append(int(prosespantau.text))\n",
    "            SelesaiPantauList.append(int(selesaipantau.text))\n",
    "            ProsesRawatList.append(int(prosesrawat.text))\n",
    "            SelesaiRawatList.append(int(selesairawat.text))\n",
    "            PositifList.append(int(positif.text))\n",
    "            SembuhList.append(int(sembuh.text))\n",
    "            MeninggalList.append(int(meninggal.text))\n",
    "\n",
    "            # we append kecamatan name here in order to get the kecamatan name with the same length as DesaList\n",
    "            KecamatanList.append(re.findall(r'\\s\\w+$', teks_kec)[0][1:])\n",
    "\n",
    "        # for-loop through total of proses pemantauan and total of proses perawatan\n",
    "        # both are extracted from the same tag so that we loop them together\n",
    "        for idx, total in enumerate(soupButton.findAll('td', attrs={'data-label':'Total'})):\n",
    "            if idx % 2 == 0: # total of proses pemantauan is located in the even numbers\n",
    "                TotalPantauList.append(int(total.text))\n",
    "            else: # total of proses perawatan is located in the odd numbers\n",
    "                TotalRawatList.append(int(total.text))\n",
    "\n",
    "        # close pop up window\n",
    "        driver.find_element_by_xpath('//*[@id=\"myModal\"]/div/div/div[1]/button').click()\n",
    "        time.sleep(1)\n",
    "\n",
    "    print('COVID-19 values scraped successfully.')\n",
    "\n",
    "    ## SCRAPING ZONE COLOR FROM THE MAP ##\n",
    "    ######################################\n",
    "    driver.refresh() # refresh the webpage\n",
    "\n",
    "    # # wait for 2 seconds\n",
    "    time.sleep(2)\n",
    "\n",
    "    driver.execute_script(\"window.scrollTo(0, 2100)\") # scroll to the map\n",
    "    time.sleep(1)\n",
    "\n",
    "    # re-scrape the webpage in order to get fresh html\n",
    "    soup = bs(driver.page_source, 'html5lib')\n",
    "\n",
    "    # set empty lists to store zone color and its desa pair\n",
    "    color = []\n",
    "    desa_zone = []\n",
    "\n",
    "    # define the elements of zoom-out button and footer of leaflet map\n",
    "    # these elements are useful to drag the map\n",
    "    zoom_element = driver.find_element_by_xpath('//*[@id=\"map\"]/div[2]/div[1]/div/a[2]')\n",
    "    # footer_element = driver.find_element_by_css_selector('#map > div.leaflet-control-container > div.leaflet-bottom.leaflet-right > div > a')\n",
    "\n",
    "    # define all circles available in the map\n",
    "    allCircles = soupButton.findAll('img', attrs={'class':\"leaflet-marker-icon leaflet-zoom-animated leaflet-interactive\"})\n",
    "\n",
    "    print('Starting scraping zone color data in the map.')\n",
    "    # for-loop through each circle\n",
    "    for idx, circle in tqdm(enumerate(allCircles)):\n",
    "        # define css_selector ordered by idx\n",
    "        selector = '#map > div.leaflet-pane.leaflet-map-pane > div.leaflet-pane.leaflet-marker-pane > img:nth-child({})'.format(str(idx+1))\n",
    "        color.append(circle.get('src')) # append the color url of the circle\n",
    "\n",
    "        # the exceptions below are used in two error conditions (ElementNotInteractableException & ElementClickInterceptedException):\n",
    "        # 1. during selenium clicking each circle, the map shown is outside of boundary so that selenium can't click the next circle\n",
    "        # 2. during selenium clicking each circle, the circle can't be clicked by selenium due to overlapping with other elements\n",
    "        try:\n",
    "            source_element = driver.find_element_by_css_selector(selector) # define the element of circle\n",
    "            source_element.click() # try to click it\n",
    "        \n",
    "        # if can't be clicked due to not interactable, enter the first error handling\n",
    "        # where selenium is set to click the source_element (then hold) and move to zoom_element so that the next circle element can be clicked\n",
    "        except ElementNotInteractableException:\n",
    "            action = ActionChains(driver)\n",
    "            action.click_and_hold(source_element).move_by_offset(10,0).release(zoom_element).perform()\n",
    "            source_element.click()\n",
    "        \n",
    "        # if can't be clicked due to overlapping, enter the second error handling\n",
    "        # where zoom-in button of the map is clicked so that the circle is expected to not overlap anymore\n",
    "        except ElementClickInterceptedException:\n",
    "            driver.find_element_by_xpath('//*[@id=\"map\"]/div[2]/div[1]/div/a[1]').click() # zoom-in\n",
    "            time.sleep(0.5) # wait until zoom-in responding\n",
    "            source_element.click()\n",
    "        \n",
    "        # adjust the map right in the center of screen in case the exception above has moved the screen\n",
    "        finally:\n",
    "            driver.execute_script(\"window.scrollTo(0, 2100)\")\n",
    "\n",
    "        time.sleep(1) # wait until the pop-up circle responding\n",
    "        desa_zone.append(driver.find_element_by_xpath('//*[@id=\"map\"]/div[1]/div[6]/div/div[1]/div/table/tbody/tr[1]/td/b').text.title()) # scrape the desa name\n",
    "        \n",
    "        driver.find_element_by_xpath('//*[@id=\"map\"]/div[1]/div[6]/div/a').click() # close pop-up zone\n",
    "\n",
    "        # zoom-out\n",
    "        driver.find_element_by_xpath('//*[@id=\"map\"]/div[2]/div[1]/div/a[2]').click()\n",
    "        time.sleep(1)  # wait until zoom-out responding\n",
    "\n",
    "    print('Zone colors data scraped successfully.')\n",
    "\n",
    "print('Browser closed.')"
   ]
  },
  {
   "cell_type": "code",
   "execution_count": 6,
   "metadata": {},
   "outputs": [],
   "source": [
    "# get then define list of date (update date from the web)\n",
    "teks = soup.findAll('p')[0].text\n",
    "tgl = re.findall(r'\\d{1,2}/\\d{1,2}/\\d{4}', teks)[0]\n",
    "tgl = datetime.datetime.strptime(tgl, '%d/%m/%Y')\n",
    "\n",
    "TanggalList = [tgl for i in range(len(DesaList))]"
   ]
  },
  {
   "cell_type": "code",
   "execution_count": 7,
   "metadata": {},
   "outputs": [],
   "source": [
    "# define list of kabupaten\n",
    "KabupatenList = ['Jembrana' for i in range(len(DesaList))]"
   ]
  },
  {
   "cell_type": "code",
   "execution_count": 8,
   "metadata": {},
   "outputs": [],
   "source": [
    "# combine all data\n",
    "data = [TanggalList, KabupatenList, KecamatanList, DesaList, ProsesPantauList, SelesaiPantauList, TotalPantauList, ProsesRawatList, SelesaiRawatList, TotalRawatList, PositifList, SembuhList, MeninggalList]\n",
    "\n",
    "# define column headers\n",
    "headers = ['tanggal_update','kabupaten','kecamatan','desa','proses_pemantauan','selesai_pemantauan','total_pemantauan','proses_perawatan','selesai_perawatan','total_perawatan','positif_covid19','sembuh','meninggal']"
   ]
  },
  {
   "cell_type": "code",
   "execution_count": 9,
   "metadata": {},
   "outputs": [],
   "source": [
    "# create a dataframe of the data\n",
    "df = pd.DataFrame(data).transpose()\n",
    "df.columns = headers"
   ]
  },
  {
   "cell_type": "code",
   "execution_count": 10,
   "metadata": {},
   "outputs": [
    {
     "output_type": "stream",
     "name": "stdout",
     "text": [
      "['https://covid19.jembranakab.go.id/img/circle.png', 'https://covid19.jembranakab.go.id/img/green.png', 'https://covid19.jembranakab.go.id/img/circle_odp.png']\n"
     ]
    }
   ],
   "source": [
    "# see the zone colors\n",
    "color_uniq = list(set(color))\n",
    "print(color_uniq)"
   ]
  },
  {
   "source": [
    "<img src=\"https://covid19.jembranakab.go.id/img/circle_odp.png\" alt=\"Drawing\" style=\"width: 100px;\"/>\n",
    "This link https://covid19.jembranakab.go.id/img/circle_odp.png has yellow color.\n",
    "\n",
    "<img src=\"https://covid19.jembranakab.go.id/img/green.png\" alt=\"Drawing\" style=\"width: 100px;\"/>\n",
    "This link https://covid19.jembranakab.go.id/img/green.png has green color.\n",
    "\n",
    "<img src=\"https://covid19.jembranakab.go.id/img/circle.png\" alt=\"Drawing\" style=\"width: 100px;\"/>\n",
    "This link https://covid19.jembranakab.go.id/img/circle.png has red color.\n",
    "<br></br>\n",
    "\n",
    "Therefore, using those images, we can hard code the zone colors as defined below."
   ],
   "cell_type": "markdown",
   "metadata": {}
  },
  {
   "cell_type": "code",
   "execution_count": 11,
   "metadata": {},
   "outputs": [],
   "source": [
    "url2color = {color_uniq[0]:'yellow', color_uniq[1]:'green', color_uniq[2]:'red'} # a dict to convert url text to color\n",
    "DesaColorDict = {des:url2color[col] for col, des in zip(color, desa_zone)} # a dict to store desa and color pairs"
   ]
  },
  {
   "cell_type": "code",
   "execution_count": 12,
   "metadata": {},
   "outputs": [
    {
     "output_type": "stream",
     "name": "stdout",
     "text": [
      "Which desa doesn't have zone color:\n {'Delodberawah', 'Medewi', 'Blimbingsari'}\n"
     ]
    }
   ],
   "source": [
    "print(\"Which desa doesn't have zone color:\\n\", set(desa_zone) ^ set(df.desa.to_list()))"
   ]
  },
  {
   "cell_type": "code",
   "execution_count": 30,
   "metadata": {},
   "outputs": [],
   "source": [
    "# create a function to write desa zone color to dataframe\n",
    "def write_zonecolor(desa):\n",
    "    intersect = set([desa]).intersection(set([i for i in DesaColorDict.keys()]))\n",
    "    if intersect:\n",
    "        color = DesaColorDict[list(intersect)[0]]\n",
    "        return color\n",
    "    else:\n",
    "        return ''"
   ]
  },
  {
   "cell_type": "code",
   "execution_count": 31,
   "metadata": {},
   "outputs": [],
   "source": [
    "df['zona'] = df.desa.apply(write_zonecolor)"
   ]
  },
  {
   "cell_type": "code",
   "execution_count": 33,
   "metadata": {},
   "outputs": [
    {
     "output_type": "execute_result",
     "data": {
      "text/plain": [
       "  tanggal_update kabupaten kecamatan          desa proses_pemantauan  \\\n",
       "0     2020-11-15  Jembrana    Melaya         Tuwed                 0   \n",
       "1     2020-11-15  Jembrana    Melaya      Tukadaya                 0   \n",
       "2     2020-11-15  Jembrana    Melaya     Gilimanuk                 1   \n",
       "3     2020-11-15  Jembrana    Melaya  Blimbingsari                 0   \n",
       "4     2020-11-15  Jembrana    Melaya     Manistutu                 0   \n",
       "\n",
       "  selesai_pemantauan total_pemantauan proses_perawatan selesai_perawatan  \\\n",
       "0                 15               15                0                 2   \n",
       "1                  5                5                0                 4   \n",
       "2                  5                6                1                 2   \n",
       "3                  3                3                0                 0   \n",
       "4                  8                8                0                 4   \n",
       "\n",
       "  total_perawatan positif_covid19 sembuh meninggal    zona  \n",
       "0               2               2      1         1  yellow  \n",
       "1               4               2      2         0   green  \n",
       "2               3              11     10         0  yellow  \n",
       "3               0               0      0         0          \n",
       "4               4               9      9         0   green  "
      ],
      "text/html": "<div>\n<style scoped>\n    .dataframe tbody tr th:only-of-type {\n        vertical-align: middle;\n    }\n\n    .dataframe tbody tr th {\n        vertical-align: top;\n    }\n\n    .dataframe thead th {\n        text-align: right;\n    }\n</style>\n<table border=\"1\" class=\"dataframe\">\n  <thead>\n    <tr style=\"text-align: right;\">\n      <th></th>\n      <th>tanggal_update</th>\n      <th>kabupaten</th>\n      <th>kecamatan</th>\n      <th>desa</th>\n      <th>proses_pemantauan</th>\n      <th>selesai_pemantauan</th>\n      <th>total_pemantauan</th>\n      <th>proses_perawatan</th>\n      <th>selesai_perawatan</th>\n      <th>total_perawatan</th>\n      <th>positif_covid19</th>\n      <th>sembuh</th>\n      <th>meninggal</th>\n      <th>zona</th>\n    </tr>\n  </thead>\n  <tbody>\n    <tr>\n      <th>0</th>\n      <td>2020-11-15</td>\n      <td>Jembrana</td>\n      <td>Melaya</td>\n      <td>Tuwed</td>\n      <td>0</td>\n      <td>15</td>\n      <td>15</td>\n      <td>0</td>\n      <td>2</td>\n      <td>2</td>\n      <td>2</td>\n      <td>1</td>\n      <td>1</td>\n      <td>yellow</td>\n    </tr>\n    <tr>\n      <th>1</th>\n      <td>2020-11-15</td>\n      <td>Jembrana</td>\n      <td>Melaya</td>\n      <td>Tukadaya</td>\n      <td>0</td>\n      <td>5</td>\n      <td>5</td>\n      <td>0</td>\n      <td>4</td>\n      <td>4</td>\n      <td>2</td>\n      <td>2</td>\n      <td>0</td>\n      <td>green</td>\n    </tr>\n    <tr>\n      <th>2</th>\n      <td>2020-11-15</td>\n      <td>Jembrana</td>\n      <td>Melaya</td>\n      <td>Gilimanuk</td>\n      <td>1</td>\n      <td>5</td>\n      <td>6</td>\n      <td>1</td>\n      <td>2</td>\n      <td>3</td>\n      <td>11</td>\n      <td>10</td>\n      <td>0</td>\n      <td>yellow</td>\n    </tr>\n    <tr>\n      <th>3</th>\n      <td>2020-11-15</td>\n      <td>Jembrana</td>\n      <td>Melaya</td>\n      <td>Blimbingsari</td>\n      <td>0</td>\n      <td>3</td>\n      <td>3</td>\n      <td>0</td>\n      <td>0</td>\n      <td>0</td>\n      <td>0</td>\n      <td>0</td>\n      <td>0</td>\n      <td></td>\n    </tr>\n    <tr>\n      <th>4</th>\n      <td>2020-11-15</td>\n      <td>Jembrana</td>\n      <td>Melaya</td>\n      <td>Manistutu</td>\n      <td>0</td>\n      <td>8</td>\n      <td>8</td>\n      <td>0</td>\n      <td>4</td>\n      <td>4</td>\n      <td>9</td>\n      <td>9</td>\n      <td>0</td>\n      <td>green</td>\n    </tr>\n  </tbody>\n</table>\n</div>"
     },
     "metadata": {},
     "execution_count": 33
    }
   ],
   "source": [
    "df.head()"
   ]
  },
  {
   "cell_type": "code",
   "execution_count": 18,
   "metadata": {},
   "outputs": [
    {
     "output_type": "execute_result",
     "data": {
      "text/plain": [
       "(51, 14)"
      ]
     },
     "metadata": {},
     "execution_count": 18
    }
   ],
   "source": [
    "df.shape"
   ]
  },
  {
   "cell_type": "code",
   "execution_count": null,
   "metadata": {},
   "outputs": [],
   "source": [
    "df.iloc[:5, :]"
   ]
  }
 ]
}